{
 "cells": [
  {
   "cell_type": "code",
   "execution_count": 16,
   "metadata": {},
   "outputs": [],
   "source": [
    "#import libraries\n",
    "import pandas as pd\n",
    "import numpy as np\n",
    "import matplotlib.pyplot as plt\n",
    "\n",
    "from sklearn.preprocessing import StandardScaler\n",
    "from sklearn.linear_model import LogisticRegression\n",
    "from sklearn.model_selection import train_test_split, cross_val_score, GridSearchCV\n",
    "from sklearn.metrics import accuracy_score, f1_score, plot_confusion_matrix"
   ]
  },
  {
   "cell_type": "code",
   "execution_count": 17,
   "metadata": {},
   "outputs": [
    {
     "data": {
      "text/html": [
       "<div>\n",
       "<style scoped>\n",
       "    .dataframe tbody tr th:only-of-type {\n",
       "        vertical-align: middle;\n",
       "    }\n",
       "\n",
       "    .dataframe tbody tr th {\n",
       "        vertical-align: top;\n",
       "    }\n",
       "\n",
       "    .dataframe thead th {\n",
       "        text-align: right;\n",
       "    }\n",
       "</style>\n",
       "<table border=\"1\" class=\"dataframe\">\n",
       "  <thead>\n",
       "    <tr style=\"text-align: right;\">\n",
       "      <th></th>\n",
       "      <th>acousticness</th>\n",
       "      <th>danceability</th>\n",
       "      <th>duration</th>\n",
       "      <th>energy</th>\n",
       "      <th>instrumentalness</th>\n",
       "      <th>key</th>\n",
       "      <th>liveness</th>\n",
       "      <th>loudness</th>\n",
       "      <th>mode</th>\n",
       "      <th>speechiness</th>\n",
       "      <th>tempo</th>\n",
       "      <th>time_signature</th>\n",
       "      <th>valence</th>\n",
       "      <th>label</th>\n",
       "    </tr>\n",
       "  </thead>\n",
       "  <tbody>\n",
       "    <tr>\n",
       "      <th>513</th>\n",
       "      <td>0.068200</td>\n",
       "      <td>0.798</td>\n",
       "      <td>246360</td>\n",
       "      <td>0.487</td>\n",
       "      <td>0.000000</td>\n",
       "      <td>1</td>\n",
       "      <td>0.0925</td>\n",
       "      <td>-4.939</td>\n",
       "      <td>1</td>\n",
       "      <td>0.2060</td>\n",
       "      <td>151.020</td>\n",
       "      <td>4</td>\n",
       "      <td>0.292</td>\n",
       "      <td>0</td>\n",
       "    </tr>\n",
       "    <tr>\n",
       "      <th>361</th>\n",
       "      <td>0.000175</td>\n",
       "      <td>0.374</td>\n",
       "      <td>333827</td>\n",
       "      <td>0.943</td>\n",
       "      <td>0.000156</td>\n",
       "      <td>6</td>\n",
       "      <td>0.1250</td>\n",
       "      <td>-4.108</td>\n",
       "      <td>0</td>\n",
       "      <td>0.0556</td>\n",
       "      <td>112.084</td>\n",
       "      <td>4</td>\n",
       "      <td>0.338</td>\n",
       "      <td>0</td>\n",
       "    </tr>\n",
       "    <tr>\n",
       "      <th>373</th>\n",
       "      <td>0.586000</td>\n",
       "      <td>0.565</td>\n",
       "      <td>238933</td>\n",
       "      <td>0.461</td>\n",
       "      <td>0.000000</td>\n",
       "      <td>0</td>\n",
       "      <td>0.1620</td>\n",
       "      <td>-7.273</td>\n",
       "      <td>1</td>\n",
       "      <td>0.1410</td>\n",
       "      <td>157.894</td>\n",
       "      <td>4</td>\n",
       "      <td>0.199</td>\n",
       "      <td>1</td>\n",
       "    </tr>\n",
       "    <tr>\n",
       "      <th>303</th>\n",
       "      <td>0.027300</td>\n",
       "      <td>0.653</td>\n",
       "      <td>237813</td>\n",
       "      <td>0.676</td>\n",
       "      <td>0.021500</td>\n",
       "      <td>5</td>\n",
       "      <td>0.1280</td>\n",
       "      <td>-6.318</td>\n",
       "      <td>1</td>\n",
       "      <td>0.0310</td>\n",
       "      <td>125.027</td>\n",
       "      <td>4</td>\n",
       "      <td>0.613</td>\n",
       "      <td>1</td>\n",
       "    </tr>\n",
       "    <tr>\n",
       "      <th>478</th>\n",
       "      <td>0.324000</td>\n",
       "      <td>0.561</td>\n",
       "      <td>204333</td>\n",
       "      <td>0.446</td>\n",
       "      <td>0.000000</td>\n",
       "      <td>11</td>\n",
       "      <td>0.1580</td>\n",
       "      <td>-10.237</td>\n",
       "      <td>1</td>\n",
       "      <td>0.0278</td>\n",
       "      <td>114.829</td>\n",
       "      <td>4</td>\n",
       "      <td>0.557</td>\n",
       "      <td>0</td>\n",
       "    </tr>\n",
       "  </tbody>\n",
       "</table>\n",
       "</div>"
      ],
      "text/plain": [
       "     acousticness  danceability  duration  energy  instrumentalness  key  \\\n",
       "513      0.068200         0.798    246360   0.487          0.000000    1   \n",
       "361      0.000175         0.374    333827   0.943          0.000156    6   \n",
       "373      0.586000         0.565    238933   0.461          0.000000    0   \n",
       "303      0.027300         0.653    237813   0.676          0.021500    5   \n",
       "478      0.324000         0.561    204333   0.446          0.000000   11   \n",
       "\n",
       "     liveness  loudness  mode  speechiness    tempo  time_signature  valence  \\\n",
       "513    0.0925    -4.939     1       0.2060  151.020               4    0.292   \n",
       "361    0.1250    -4.108     0       0.0556  112.084               4    0.338   \n",
       "373    0.1620    -7.273     1       0.1410  157.894               4    0.199   \n",
       "303    0.1280    -6.318     1       0.0310  125.027               4    0.613   \n",
       "478    0.1580   -10.237     1       0.0278  114.829               4    0.557   \n",
       "\n",
       "     label  \n",
       "513      0  \n",
       "361      0  \n",
       "373      1  \n",
       "303      1  \n",
       "478      0  "
      ]
     },
     "execution_count": 17,
     "metadata": {},
     "output_type": "execute_result"
    }
   ],
   "source": [
    "song = pd.read_csv('../../data/training_data.csv', na_values='?').dropna()\n",
    "\n",
    "song.sample(5)"
   ]
  },
  {
   "cell_type": "code",
   "execution_count": 18,
   "metadata": {},
   "outputs": [],
   "source": [
    "attr = ['acousticness','danceability','duration',\n",
    "        'energy','instrumentalness','key','liveness',\n",
    "        'loudness','mode','speechiness','tempo',\n",
    "        'time_signature','valence']\n",
    "label = 'label'\n",
    "\n",
    "# the colinearity between different feature by geometric\n",
    "# pd.plotting.scatter_matrix(song[attr], figsize = (10,10))\n",
    "# plt.show()\n",
    "\n",
    "# the colinearity between different feature by numeric\n",
    "# song[attr].corr()"
   ]
  },
  {
   "cell_type": "code",
   "execution_count": 19,
   "metadata": {},
   "outputs": [
    {
     "name": "stdout",
     "output_type": "stream",
     "text": [
      "best hyperparameters:  {'C': 2.6826957952797246, 'penalty': 'l1'}\n",
      "accuracy  0.7966666666666666\n"
     ]
    }
   ],
   "source": [
    "xtrain,xtest,ytrain,ytest = train_test_split(song[attr],\n",
    "                                                   song[label],\n",
    "                                                   test_size=0.2,\n",
    "                                                   random_state=1,\n",
    "                                                   shuffle=True)\n",
    "\n",
    "scaler = StandardScaler()\n",
    "scaler.fit(xtrain)\n",
    "xtest = scaler.transform(xtest)\n",
    "\n",
    "logreg = LogisticRegression(solver = 'liblinear',class_weight='balanced')\n",
    "para = {'C': np.logspace(-3,3,8), 'penalty':['l1','l2']}\n",
    "logSearch = GridSearchCV(logreg,para,cv=5)\n",
    "logSearch.fit(xtrain,ytrain)\n",
    "\n",
    "print('best hyperparameters: ', logSearch.best_params_)\n",
    "print('accuracy ',logSearch.best_score_)"
   ]
  },
  {
   "cell_type": "code",
   "execution_count": 20,
   "metadata": {},
   "outputs": [
    {
     "name": "stdout",
     "output_type": "stream",
     "text": [
      "accuracy 0.7266666666666667\n",
      "f1-score 0.7783783783783783\n"
     ]
    }
   ],
   "source": [
    "bestLogReg = LogisticRegression(C= logSearch.best_params_['C'],penalty= 'l1',solver = 'liblinear')\n",
    "bestLogReg.fit(xtrain,ytrain)\n",
    "pred = bestLogReg.predict(xtest)\n",
    "print('accuracy', accuracy_score(pred, ytest))\n",
    "print('f1-score', f1_score(pred, ytest))"
   ]
  },
  {
   "cell_type": "code",
   "execution_count": 24,
   "metadata": {},
   "outputs": [
    {
     "data": {
      "image/png": "[encoded data removed]",
      "text/plain": [
       "<Figure size 640x480 with 2 Axes>"
      ]
     },
     "metadata": {},
     "output_type": "display_data"
    }
   ],
   "source": [
    "plot_confusion_matrix(bestLogReg, xtest, ytest, normalize = 'all')\n",
    "\n",
    "\n",
    "plt.title(\"Logistic Regression:{:.4f}\".format(accuracy_score(pred, ytest)))\n",
    "plt.savefig(\"../../result/LR\")\n",
    "plt.show()"
   ]
  }
 ],
 "metadata": {
  "kernelspec": {
   "display_name": "Python 3",
   "language": "python",
   "name": "python3"
  },
  "language_info": {
   "codemirror_mode": {
    "name": "ipython",
    "version": 3
   },
   "file_extension": ".py",
   "mimetype": "text/x-python",
   "name": "python",
   "nbconvert_exporter": "python",
   "pygments_lexer": "ipython3",
   "version": "3.7.8"
  }
 },
 "nbformat": 4,
 "nbformat_minor": 4
}
