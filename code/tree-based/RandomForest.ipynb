{
 "cells": [
  {
   "cell_type": "markdown",
   "metadata": {},
   "source": [
    "# Song Classification -- Random Forest"
   ]
  },
  {
   "cell_type": "markdown",
   "metadata": {},
   "source": [
    "#### Problem description: The problem is to classify a set of 200 songs, and predict Andreas Lindholm's preferences(Like or Dislike), with a training data set with 750 labeled songs. "
   ]
  },
  {
   "cell_type": "markdown",
   "metadata": {},
   "source": [
    "In this part, tree classification will be used for this notebook, and the structure as follows:"
   ]
  },
  {
   "cell_type": "markdown",
   "metadata": {},
   "source": [
    "+ [1. Import Libraries](#1)<br>\n",
    "+ [2. Load Song-Data](#2)<br>\n",
    "+ [3. Feature selection](#3)<br>\n",
    "+ [4. Random Forest](#4)<br>\n",
    "+ [5. Cross Validation](#5)<br>\n",
    "+ [5.1 Choose criterion and ccp](#5.1)<br>\n",
    "+ [5.2 Choose the number of Estimators](#5.2)<br>\n",
    "+ [6. Get solution](#6)<br>\n"
   ]
  },
  {
   "cell_type": "markdown",
   "metadata": {},
   "source": [
    "## <a id = 1>1. Import Libraries</a>"
   ]
  },
  {
   "cell_type": "code",
   "execution_count": 1,
   "metadata": {},
   "outputs": [],
   "source": [
    "import numpy as np # to do linear algebra\n",
    "\n",
    "\n",
    "import pandas as pd # to store the data \n",
    "\n",
    "\n",
    "import matplotlib.pyplot as plt # to create plots\n",
    "\n",
    "\n",
    "from sklearn.ensemble import RandomForestClassifier # to create random forest\n",
    "import sklearn.tree as skl_tr # to create tree model\n",
    "\n",
    "\n",
    "# to split train-test data\n",
    "from sklearn.model_selection import train_test_split  \n",
    "\n",
    "\n",
    "# to calculate the accuracy\n",
    "from sklearn.metrics import accuracy_score\n",
    "\n",
    "\n",
    "# to do cross validation\n",
    "from sklearn.model_selection import KFold\n",
    "\n",
    "\n",
    "# to select feature\n",
    "from sklearn.feature_selection import SelectKBest\n",
    "from sklearn.feature_selection import f_classif\n",
    "\n",
    "\n",
    "# to do cross validation\n",
    "from sklearn.model_selection import cross_val_score  "
   ]
  },
  {
   "cell_type": "markdown",
   "metadata": {},
   "source": [
    "## <a id = 2>2. Load Song-data</a>"
   ]
  },
  {
   "cell_type": "code",
   "execution_count": 2,
   "metadata": {},
   "outputs": [
    {
     "name": "stdout",
     "output_type": "stream",
     "text": [
      "Shape Song:\t(750, 15)\n"
     ]
    },
    {
     "data": {
      "text/html": [
       "<div>\n",
       "<style scoped>\n",
       "    .dataframe tbody tr th:only-of-type {\n",
       "        vertical-align: middle;\n",
       "    }\n",
       "\n",
       "    .dataframe tbody tr th {\n",
       "        vertical-align: top;\n",
       "    }\n",
       "\n",
       "    .dataframe thead th {\n",
       "        text-align: right;\n",
       "    }\n",
       "</style>\n",
       "<table border=\"1\" class=\"dataframe\">\n",
       "  <thead>\n",
       "    <tr style=\"text-align: right;\">\n",
       "      <th></th>\n",
       "      <th>index</th>\n",
       "      <th>acousticness</th>\n",
       "      <th>danceability</th>\n",
       "      <th>duration</th>\n",
       "      <th>energy</th>\n",
       "      <th>instrumentalness</th>\n",
       "      <th>key</th>\n",
       "      <th>liveness</th>\n",
       "      <th>loudness</th>\n",
       "      <th>mode</th>\n",
       "      <th>speechiness</th>\n",
       "      <th>tempo</th>\n",
       "      <th>time_signature</th>\n",
       "      <th>valence</th>\n",
       "      <th>label</th>\n",
       "    </tr>\n",
       "  </thead>\n",
       "  <tbody>\n",
       "    <tr>\n",
       "      <th>116</th>\n",
       "      <td>116</td>\n",
       "      <td>0.95200</td>\n",
       "      <td>0.327</td>\n",
       "      <td>240600</td>\n",
       "      <td>0.280</td>\n",
       "      <td>0.000033</td>\n",
       "      <td>2</td>\n",
       "      <td>0.1040</td>\n",
       "      <td>-9.003</td>\n",
       "      <td>1</td>\n",
       "      <td>0.0408</td>\n",
       "      <td>83.047</td>\n",
       "      <td>4</td>\n",
       "      <td>0.130</td>\n",
       "      <td>1</td>\n",
       "    </tr>\n",
       "    <tr>\n",
       "      <th>715</th>\n",
       "      <td>715</td>\n",
       "      <td>0.83900</td>\n",
       "      <td>0.342</td>\n",
       "      <td>335667</td>\n",
       "      <td>0.243</td>\n",
       "      <td>0.894000</td>\n",
       "      <td>8</td>\n",
       "      <td>0.1080</td>\n",
       "      <td>-20.631</td>\n",
       "      <td>1</td>\n",
       "      <td>0.0327</td>\n",
       "      <td>143.985</td>\n",
       "      <td>4</td>\n",
       "      <td>0.253</td>\n",
       "      <td>1</td>\n",
       "    </tr>\n",
       "    <tr>\n",
       "      <th>313</th>\n",
       "      <td>313</td>\n",
       "      <td>0.00287</td>\n",
       "      <td>0.709</td>\n",
       "      <td>156005</td>\n",
       "      <td>0.960</td>\n",
       "      <td>0.524000</td>\n",
       "      <td>11</td>\n",
       "      <td>0.2720</td>\n",
       "      <td>-3.891</td>\n",
       "      <td>1</td>\n",
       "      <td>0.1950</td>\n",
       "      <td>160.065</td>\n",
       "      <td>4</td>\n",
       "      <td>0.882</td>\n",
       "      <td>0</td>\n",
       "    </tr>\n",
       "    <tr>\n",
       "      <th>135</th>\n",
       "      <td>135</td>\n",
       "      <td>0.54300</td>\n",
       "      <td>0.717</td>\n",
       "      <td>261773</td>\n",
       "      <td>0.916</td>\n",
       "      <td>0.000156</td>\n",
       "      <td>11</td>\n",
       "      <td>0.0854</td>\n",
       "      <td>-6.047</td>\n",
       "      <td>1</td>\n",
       "      <td>0.0344</td>\n",
       "      <td>133.144</td>\n",
       "      <td>4</td>\n",
       "      <td>0.964</td>\n",
       "      <td>1</td>\n",
       "    </tr>\n",
       "    <tr>\n",
       "      <th>63</th>\n",
       "      <td>63</td>\n",
       "      <td>0.01210</td>\n",
       "      <td>0.736</td>\n",
       "      <td>211023</td>\n",
       "      <td>0.773</td>\n",
       "      <td>0.005310</td>\n",
       "      <td>1</td>\n",
       "      <td>0.3330</td>\n",
       "      <td>-5.092</td>\n",
       "      <td>1</td>\n",
       "      <td>0.0433</td>\n",
       "      <td>103.026</td>\n",
       "      <td>4</td>\n",
       "      <td>0.264</td>\n",
       "      <td>1</td>\n",
       "    </tr>\n",
       "  </tbody>\n",
       "</table>\n",
       "</div>"
      ],
      "text/plain": [
       "     index  acousticness  danceability  duration  energy  instrumentalness  \\\n",
       "116    116       0.95200         0.327    240600   0.280          0.000033   \n",
       "715    715       0.83900         0.342    335667   0.243          0.894000   \n",
       "313    313       0.00287         0.709    156005   0.960          0.524000   \n",
       "135    135       0.54300         0.717    261773   0.916          0.000156   \n",
       "63      63       0.01210         0.736    211023   0.773          0.005310   \n",
       "\n",
       "     key  liveness  loudness  mode  speechiness    tempo  time_signature  \\\n",
       "116    2    0.1040    -9.003     1       0.0408   83.047               4   \n",
       "715    8    0.1080   -20.631     1       0.0327  143.985               4   \n",
       "313   11    0.2720    -3.891     1       0.1950  160.065               4   \n",
       "135   11    0.0854    -6.047     1       0.0344  133.144               4   \n",
       "63     1    0.3330    -5.092     1       0.0433  103.026               4   \n",
       "\n",
       "     valence  label  \n",
       "116    0.130      1  \n",
       "715    0.253      1  \n",
       "313    0.882      0  \n",
       "135    0.964      1  \n",
       "63     0.264      1  "
      ]
     },
     "execution_count": 2,
     "metadata": {},
     "output_type": "execute_result"
    }
   ],
   "source": [
    "# load data\n",
    "song = pd.read_csv('../../data/training_data.csv', na_values='?', dtype={'ID': str}).dropna().reset_index()\n",
    "\n",
    "print('Shape Song:\\t{}'.format(song.shape))\n",
    "song.sample(5)"
   ]
  },
  {
   "cell_type": "markdown",
   "metadata": {},
   "source": [
    "There are 750 songs in the 'training_data', and 13 fetures which contains categorical data and numerical data."
   ]
  },
  {
   "cell_type": "markdown",
   "metadata": {},
   "source": [
    "## <a id = 3>3. Feature selection</a>"
   ]
  },
  {
   "cell_type": "code",
   "execution_count": 3,
   "metadata": {},
   "outputs": [],
   "source": [
    "attr = ['acousticness','danceability','duration',\n",
    "        'energy','instrumentalness','key','liveness',\n",
    "        'loudness','mode','speechiness','tempo',\n",
    "        'time_signature','valence']\n",
    "label = 'label'\n",
    "\n",
    "# the colinearity between different feature by geometric\n",
    "# pd.plotting.scatter_matrix(song[attr], figsize = (10,10))\n",
    "# plt.show()\n",
    "\n",
    "# the colinearity between different feature by numeric\n",
    "# song[attr].corr()"
   ]
  },
  {
   "cell_type": "markdown",
   "metadata": {},
   "source": [
    "From above graph and table, energy and loudness are collinear with most other features.\n",
    "\n",
    "However, the data interpretability of decision trees and random forests will be affected by multicollinearity. Random forest can return the essence of the feature (importantce), when there is multicollinearity, the importance will be affected. The importance of some multicollinearity features will be offset each other, thus affecting our interpretation and understanding of features."
   ]
  },
  {
   "cell_type": "markdown",
   "metadata": {},
   "source": [
    "## <a id = 4>4. Random Forest</a>"
   ]
  },
  {
   "cell_type": "markdown",
   "metadata": {},
   "source": [
    "#### <p>ccp alpha: Increase the number of nodes pruned </p>\n",
    "<a href = 'https://scikit-learn.org/stable/auto_examples/tree/plot_cost_complexity_pruning.html#sphx-glr-auto-examples-tree-plot-cost-complexity-pruning-py'>\n",
    "ccp introduction\n",
    "</a>  \n",
    "<p><p/>\n",
    "<a href = 'https://scikit-learn.org/stable/modules/generated/sklearn.tree.DecisionTreeClassifier.html'>\n",
    "decision tree classifier Introduction\n",
    "</a>\n"
   ]
  },
  {
   "cell_type": "code",
   "execution_count": 4,
   "metadata": {},
   "outputs": [
    {
     "name": "stdout",
     "output_type": "stream",
     "text": [
      "0.78\n"
     ]
    }
   ],
   "source": [
    "# split train-test data 8:2\n",
    "X_train, X_test, Y_train, Y_test = train_test_split(song[attr],\n",
    "                                                    song[label],\n",
    "                                                    test_size = 0.2,\n",
    "                                                    random_state = 1)\n",
    "\n",
    "\n",
    "# train random forest model\n",
    "rf = RandomForestClassifier(criterion = 'gini',                \n",
    "                            n_estimators = 100,\n",
    "#                             max_depth=5,                          \n",
    "                            min_samples_split = 2,\n",
    "                            min_samples_leaf = 1,\n",
    "#                             ccp_alpha = 0.016,\n",
    "                            random_state=1\n",
    "                           ) \n",
    "rf.fit(X_train, Y_train)\n",
    "\n",
    "\n",
    "# test random forest model\n",
    "y_pred = rf.predict(X_test)\n",
    "print(accuracy_score(Y_test, y_pred))"
   ]
  },
  {
   "cell_type": "markdown",
   "metadata": {},
   "source": [
    "### After run the experiments with different parameters many times, observed that:   \n",
    "\n",
    "1. 'max_depth' and 'ccp_alpha' can be used to purning. Here choose 'ccp_alpha' to purn.  \n",
    "\n",
    "2. feature selection criterion has two option 'gini' and 'entropy'  \n",
    "\n",
    "3. splitter can be choose 'best' or 'random', 'best' gets best split way.  \n",
    "\n",
    "4. n_estimators decides the number of the trees\n",
    "\n",
    "#### To determined which parameters work better, the cross validation will be used in next section."
   ]
  },
  {
   "cell_type": "markdown",
   "metadata": {},
   "source": [
    "## <a id = 5>5. Cross Validation</a>\n",
    "### <a id = 5.1> 5.1 Choose criterion and ccp\\_alpha</a>"
   ]
  },
  {
   "cell_type": "code",
   "execution_count": 5,
   "metadata": {},
   "outputs": [],
   "source": [
    "x = song[attr]; y = song[label]"
   ]
  },
  {
   "cell_type": "code",
   "execution_count": 6,
   "metadata": {},
   "outputs": [
    {
     "name": "stdout",
     "output_type": "stream",
     "text": [
      "[0.8346666666666668, 0.8346666666666668, 0.8333333333333333, 0.8293333333333333, 0.8306666666666667, 0.828, 0.8253333333333334, 0.8213333333333335, 0.8186666666666668, 0.8186666666666668, 0.8186666666666668, 0.8119999999999999, 0.8160000000000001, 0.8093333333333333, 0.8066666666666666, 0.8013333333333333, 0.8, 0.8, 0.8, 0.8013333333333333, 0.8026666666666665, 0.8013333333333333, 0.7986666666666666, 0.8013333333333333, 0.8, 0.7986666666666666]\n"
     ]
    }
   ],
   "source": [
    "# cross validation result for entropy criterion with different 'ccp_alpha'\n",
    "accuracyRateEntropyCV = []\n",
    "ccp_alpha = np.arange(0,0.052, 0.002)\n",
    "for i in ccp_alpha:\n",
    "    score = []\n",
    "    \n",
    "    # Run 10 times to test the stablity of model\n",
    "\n",
    "    model = RandomForestClassifier(criterion = 'entropy',                \n",
    "                                    n_estimators = 100,\n",
    "                                    min_samples_split = 2,\n",
    "                                    min_samples_leaf = 1,\n",
    "                                    ccp_alpha = i,\n",
    "                                    random_state = 1\n",
    "                                   ) \n",
    "    \n",
    "    score = cross_val_score(model,X = x, y = y,cv=10)\n",
    "    \n",
    "    accuracyRateEntropyCV.append(np.average(score))\n",
    "    \n",
    "print(accuracyRateEntropyCV)"
   ]
  },
  {
   "cell_type": "code",
   "execution_count": 7,
   "metadata": {},
   "outputs": [
    {
     "name": "stdout",
     "output_type": "stream",
     "text": [
      "[0.8400000000000001, 0.836, 0.8306666666666667, 0.8306666666666667, 0.8160000000000001, 0.8119999999999999, 0.808, 0.804, 0.8053333333333335, 0.7986666666666666, 0.8013333333333333, 0.7973333333333333, 0.8, 0.7986666666666667, 0.8, 0.8026666666666665, 0.8039999999999999, 0.8013333333333333, 0.8026666666666668, 0.8053333333333332, 0.808, 0.8, 0.7986666666666666, 0.7933333333333333, 0.796, 0.7946666666666666]\n"
     ]
    }
   ],
   "source": [
    "# cross validation result for gini criterion with different 'ccp_alpha'\n",
    "accuracyRateGiniCV = []\n",
    "ccp_alpha = np.arange(0,0.052, 0.002)\n",
    "for i in ccp_alpha:\n",
    "    score = []\n",
    "    \n",
    "    # Run 10 times to test the stablity of model\n",
    "\n",
    "    model = RandomForestClassifier(criterion = 'gini',                \n",
    "                                    n_estimators = 100,\n",
    "                                    min_samples_split = 2,\n",
    "                                    min_samples_leaf = 1,\n",
    "                                    ccp_alpha = i,\n",
    "                                    random_state = 1\n",
    "                                   ) \n",
    "    \n",
    "    score = cross_val_score(model,X = x, y = y,cv=10)\n",
    "    \n",
    "    accuracyRateGiniCV.append(np.average(score))\n",
    "    \n",
    "print(accuracyRateGiniCV)"
   ]
  },
  {
   "cell_type": "code",
   "execution_count": 8,
   "metadata": {},
   "outputs": [
    {
     "data": {
      "image/png": "[encoded data removed]",
      "text/plain": [
       "<Figure size 640x480 with 1 Axes>"
      ]
     },
     "metadata": {},
     "output_type": "display_data"
    }
   ],
   "source": [
    "plt.plot(ccp_alpha, accuracyRateEntropyCV, color = 'green',marker ='o', label ='entropyCV', drawstyle=\"steps-post\")\n",
    "plt.plot(ccp_alpha, accuracyRateGiniCV, color = 'black',marker = 'o', label = 'giniCV',drawstyle=\"steps-post\" )\n",
    "\n",
    "plt.xlabel('ccp_alpha')\n",
    "plt.ylabel('accuracy')\n",
    "plt.legend()\n",
    "plt.show()"
   ]
  },
  {
   "cell_type": "markdown",
   "metadata": {},
   "source": [
    "#### Conclusion\n",
    "The graph shows that when ccp_alpha incresed, the accuracy on a downward trend, so for a random forest model, the best ccp_alpha is $0$, since the subtree with the largest cost complexity that is smaller than ccp_alpha will be chosen and others will be abondaned.  \n",
    "  \n",
    "  \n",
    "The model trained with 'gini' criterion has higher peak value of the accuracy, so here we choose 'gini' and cpp\\_alpha with '0'."
   ]
  },
  {
   "cell_type": "markdown",
   "metadata": {},
   "source": [
    "### <a id = '5.2'>5.2 Choose the number of Estimators</a>"
   ]
  },
  {
   "cell_type": "code",
   "execution_count": 9,
   "metadata": {},
   "outputs": [],
   "source": [
    "# cross validation result for gini criterion with different 'ccp_alpha'\n",
    "accuracyRateGiniCV = []\n",
    "n = 200\n",
    "for i in range(n):\n",
    "    score = []\n",
    "    # Run 10 times to test the stablity of model\n",
    "\n",
    "    model = RandomForestClassifier(criterion = 'gini',                \n",
    "                                    n_estimators = i+1,\n",
    "                                    min_samples_split = 2,\n",
    "                                    min_samples_leaf = 1,\n",
    "                                    ccp_alpha = 0,\n",
    "                                    random_state = 1\n",
    "                                   ) \n",
    "    \n",
    "    score = cross_val_score(model,X = x, y = y,cv=10)\n",
    "    \n",
    "    accuracyRateGiniCV.append(np.average(score))"
   ]
  },
  {
   "cell_type": "code",
   "execution_count": 10,
   "metadata": {},
   "outputs": [
    {
     "data": {
      "image/png": "[encoded data removed]",
      "text/plain": [
       "<Figure size 640x480 with 1 Axes>"
      ]
     },
     "metadata": {},
     "output_type": "display_data"
    }
   ],
   "source": [
    "n_estimator = np.arange(1,201,1)\n",
    "plt.plot(n_estimator, accuracyRateGiniCV, color = 'black',marker = 'o', label = 'giniCV',drawstyle=\"steps-post\" )\n",
    "plt.xlabel('Number Of Trees')\n",
    "plt.ylabel('accuracy')\n",
    "plt.legend()\n",
    "plt.show()"
   ]
  },
  {
   "cell_type": "code",
   "execution_count": 11,
   "metadata": {},
   "outputs": [
    {
     "name": "stdout",
     "output_type": "stream",
     "text": [
      "89\n",
      "0.8426666666666666\n",
      "[0.8360000000000001, 0.8373333333333333, 0.836, 0.8386666666666667, 0.8373333333333333, 0.8373333333333333, 0.8373333333333333, 0.8400000000000001, 0.8413333333333334, 0.8426666666666666, 0.8413333333333334, 0.8400000000000001, 0.8413333333333334, 0.8413333333333334, 0.8413333333333334, 0.8386666666666667, 0.8386666666666667, 0.8386666666666667, 0.8386666666666667, 0.8400000000000001]\n"
     ]
    }
   ],
   "source": [
    "print(accuracyRateGiniCV.index(max(accuracyRateGiniCV)))\n",
    "print(accuracyRateGiniCV[89])\n",
    "print(accuracyRateGiniCV[80:100])"
   ]
  },
  {
   "cell_type": "markdown",
   "metadata": {},
   "source": [
    "## <a id = 6>6. Get solution</a>\n",
    "#### On this section, we will use 'gini' criterion, n_estimators = 100 and ccp_alpha = 0 to train our data with whole training set."
   ]
  },
  {
   "cell_type": "code",
   "execution_count": 12,
   "metadata": {},
   "outputs": [
    {
     "data": {
      "text/plain": [
       "RandomForestClassifier(ccp_alpha=0, n_estimators=89, random_state=1)"
      ]
     },
     "execution_count": 12,
     "metadata": {},
     "output_type": "execute_result"
    }
   ],
   "source": [
    "rf = RandomForestClassifier(criterion = 'gini',                \n",
    "                                    n_estimators = 89,\n",
    "                                    min_samples_split = 2,\n",
    "                                    min_samples_leaf = 1,\n",
    "                                    ccp_alpha = 0,\n",
    "                                    random_state = 1\n",
    "                                   ) \n",
    "\n",
    "rf.fit(x, y)"
   ]
  },
  {
   "cell_type": "code",
   "execution_count": 13,
   "metadata": {},
   "outputs": [
    {
     "name": "stdout",
     "output_type": "stream",
     "text": [
      "The train accuracy is \t1.0\n"
     ]
    }
   ],
   "source": [
    "# verify model by use the training data\n",
    "predict = rf.predict(song[attr])\n",
    "\n",
    "print('The train accuracy is \\t{}'.format(np.mean(predict == song[label])))"
   ]
  },
  {
   "cell_type": "markdown",
   "metadata": {},
   "source": [
    "#### Now predict the test set"
   ]
  },
  {
   "cell_type": "code",
   "execution_count": 15,
   "metadata": {},
   "outputs": [
    {
     "name": "stdout",
     "output_type": "stream",
     "text": [
      "11100101011110011001101111111001110111101010110100000110100010001100100111010000101111110011110011111010011010110011111111110001011011111101111111101010101001111010010101111010101110101010101111111000\n"
     ]
    }
   ],
   "source": [
    "test = pd.read_csv('../../data/songs_to_classify.csv',\n",
    "                   na_values='?',\n",
    "                   dtype={'ID': str}).dropna().reset_index()[attr]\n",
    "\n",
    "\n",
    "predict = rf.predict(test)\n",
    "\n",
    "# format the solution as '001100...'\n",
    "res = str(str(predict).split(','))\n",
    "solution = ''\n",
    "for i in range(len(res)):\n",
    "    if res[i].isdigit():\n",
    "        solution += res[i]\n",
    "        \n",
    "print(solution)    "
   ]
  },
  {
   "cell_type": "code",
   "execution_count": null,
   "metadata": {},
   "outputs": [],
   "source": []
  }
 ],
 "metadata": {
  "kernelspec": {
   "display_name": "Python 3",
   "language": "python",
   "name": "python3"
  },
  "language_info": {
   "codemirror_mode": {
    "name": "ipython",
    "version": 3
   },
   "file_extension": ".py",
   "mimetype": "text/x-python",
   "name": "python",
   "nbconvert_exporter": "python",
   "pygments_lexer": "ipython3",
   "version": "3.7.8"
  }
 },
 "nbformat": 4,
 "nbformat_minor": 4
}
