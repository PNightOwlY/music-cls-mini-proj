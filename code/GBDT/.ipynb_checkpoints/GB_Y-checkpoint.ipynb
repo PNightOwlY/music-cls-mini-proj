{
 "cells": [
  {
   "cell_type": "code",
   "execution_count": 3,
   "metadata": {},
   "outputs": [],
   "source": [
    "#import libraries\n",
    "import pandas as pd\n",
    "import numpy as np\n",
    "import matplotlib.pyplot as plt\n",
    "import warnings\n",
    "warnings.filterwarnings(\"ignore\")\n",
    "\n",
    "from sklearn import ensemble\n",
    "from sklearn.decomposition import PCA\n",
    "from sklearn.preprocessing import StandardScaler\n",
    "from sklearn.linear_model import LogisticRegression\n",
    "from sklearn.model_selection import train_test_split, cross_val_score, GridSearchCV\n",
    "from sklearn.metrics import accuracy_score, f1_score, plot_confusion_matrix"
   ]
  },
  {
   "cell_type": "code",
   "execution_count": 4,
   "metadata": {},
   "outputs": [],
   "source": [
    "data = pd.read_csv('training_data.csv')\n",
    "x = data.iloc[:,:-1]\n",
    "y = data.iloc[:,-1]\n",
    "xtrain,xtest,ytrain,ytest = train_test_split(x,y,test_size = 0.2)"
   ]
  },
  {
   "cell_type": "code",
   "execution_count": 8,
   "metadata": {},
   "outputs": [],
   "source": [
    "model = ensemble.GradientBoostingClassifier()\n",
    "para_grid = {\n",
    "    'learning_rate': [0.05,0.1,0.5],\n",
    "    'n_estimators': [10,20,100,200,500],\n",
    "    'max_depth': [3,6,9,10,12],\n",
    "    'min_samples_leaf': [3,6,9,10,12],\n",
    "    'loss': ['deviance','exponential']\n",
    "}\n",
    "grid_cv = GridSearchCV(model, para_grid, cv = 5)\n",
    "grid_cv.fit(xtrain, ytrain)\n",
    "pred = grid_cv.predict(xtest)"
   ]
  },
  {
   "cell_type": "code",
   "execution_count": 12,
   "metadata": {},
   "outputs": [
    {
     "name": "stdout",
     "output_type": "stream",
     "text": [
      "{'learning_rate': 0.5, 'loss': 'exponential', 'max_depth': 6, 'min_samples_leaf': 9, 'n_estimators': 500}\n",
      "accuracy 0.8266666666666667\n",
      "f1-score 0.8414634146341463\n"
     ]
    },
    {
     "data": {
      "text/plain": [
       "<sklearn.metrics._plot.confusion_matrix.ConfusionMatrixDisplay at 0x21b4775a588>"
      ]
     },
     "execution_count": 12,
     "metadata": {},
     "output_type": "execute_result"
    },
    {
     "data": {
      "image/png": "[encoded data removed]",
      "text/plain": [
       "<Figure size 432x288 with 2 Axes>"
      ]
     },
     "metadata": {
      "needs_background": "light"
     },
     "output_type": "display_data"
    }
   ],
   "source": [
    "print(grid_cv.best_params_)\n",
    "print('accuracy', accuracy_score(pred, ytest))\n",
    "print('f1-score', f1_score(pred, ytest))\n",
    "plot_confusion_matrix(grid_cv, xtest,ytest, normalize = 'all')"
   ]
  },
  {
   "cell_type": "code",
   "execution_count": 14,
   "metadata": {},
   "outputs": [
    {
     "data": {
      "text/plain": [
       "'11100001011111011001101111111001110011111010110100000110110011101100100111010000101111010001010011111010001110111011011111110001011011111101111110101011001101111010010101111010101110111010101111111000'"
      ]
     },
     "execution_count": 14,
     "metadata": {},
     "output_type": "execute_result"
    }
   ],
   "source": [
    "newx = pd.read_csv('songs_to_classify.csv')\n",
    "pred_new =grid_cv.predict(newx)\n",
    "res3 = ''.join(str(label) for label in pred_new)\n",
    "res3"
   ]
  }
 ],
 "metadata": {
  "kernelspec": {
   "display_name": "Python 3",
   "language": "python",
   "name": "python3"
  },
  "language_info": {
   "codemirror_mode": {
    "name": "ipython",
    "version": 3
   },
   "file_extension": ".py",
   "mimetype": "text/x-python",
   "name": "python",
   "nbconvert_exporter": "python",
   "pygments_lexer": "ipython3",
   "version": "3.7.8"
  }
 },
 "nbformat": 4,
 "nbformat_minor": 4
}
