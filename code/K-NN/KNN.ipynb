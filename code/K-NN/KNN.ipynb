{
 "cells": [
  {
   "cell_type": "code",
   "execution_count": 29,
   "metadata": {},
   "outputs": [],
   "source": [
    "#import libraries\n",
    "import pandas as pd\n",
    "import numpy as np\n",
    "import matplotlib.pyplot as plt\n",
    "import warnings\n",
    "warnings.filterwarnings(\"ignore\")\n",
    "\n",
    "from sklearn import ensemble\n",
    "from sklearn.neighbors import KNeighborsClassifier\n",
    "from sklearn.decomposition import PCA\n",
    "from sklearn.preprocessing import StandardScaler, MinMaxScaler\n",
    "from sklearn.linear_model import LogisticRegression\n",
    "from sklearn.model_selection import train_test_split, cross_val_score, GridSearchCV\n",
    "from sklearn.metrics import accuracy_score, f1_score, plot_confusion_matrix"
   ]
  },
  {
   "cell_type": "code",
   "execution_count": 2,
   "metadata": {},
   "outputs": [
    {
     "data": {
      "text/html": [
       "<div>\n",
       "<style scoped>\n",
       "    .dataframe tbody tr th:only-of-type {\n",
       "        vertical-align: middle;\n",
       "    }\n",
       "\n",
       "    .dataframe tbody tr th {\n",
       "        vertical-align: top;\n",
       "    }\n",
       "\n",
       "    .dataframe thead th {\n",
       "        text-align: right;\n",
       "    }\n",
       "</style>\n",
       "<table border=\"1\" class=\"dataframe\">\n",
       "  <thead>\n",
       "    <tr style=\"text-align: right;\">\n",
       "      <th></th>\n",
       "      <th>acousticness</th>\n",
       "      <th>danceability</th>\n",
       "      <th>duration</th>\n",
       "      <th>energy</th>\n",
       "      <th>instrumentalness</th>\n",
       "      <th>key</th>\n",
       "      <th>liveness</th>\n",
       "      <th>loudness</th>\n",
       "      <th>mode</th>\n",
       "      <th>speechiness</th>\n",
       "      <th>tempo</th>\n",
       "      <th>time_signature</th>\n",
       "      <th>valence</th>\n",
       "      <th>label</th>\n",
       "    </tr>\n",
       "  </thead>\n",
       "  <tbody>\n",
       "    <tr>\n",
       "      <th>552</th>\n",
       "      <td>0.0311</td>\n",
       "      <td>0.885</td>\n",
       "      <td>195992</td>\n",
       "      <td>0.543</td>\n",
       "      <td>0.000000</td>\n",
       "      <td>2</td>\n",
       "      <td>0.154</td>\n",
       "      <td>-6.338</td>\n",
       "      <td>1</td>\n",
       "      <td>0.2000</td>\n",
       "      <td>99.026</td>\n",
       "      <td>4</td>\n",
       "      <td>0.430</td>\n",
       "      <td>0</td>\n",
       "    </tr>\n",
       "    <tr>\n",
       "      <th>709</th>\n",
       "      <td>0.9710</td>\n",
       "      <td>0.554</td>\n",
       "      <td>218627</td>\n",
       "      <td>0.331</td>\n",
       "      <td>0.223000</td>\n",
       "      <td>2</td>\n",
       "      <td>0.107</td>\n",
       "      <td>-13.008</td>\n",
       "      <td>0</td>\n",
       "      <td>0.0466</td>\n",
       "      <td>184.098</td>\n",
       "      <td>4</td>\n",
       "      <td>0.446</td>\n",
       "      <td>1</td>\n",
       "    </tr>\n",
       "    <tr>\n",
       "      <th>21</th>\n",
       "      <td>0.3600</td>\n",
       "      <td>0.524</td>\n",
       "      <td>115773</td>\n",
       "      <td>0.600</td>\n",
       "      <td>0.013000</td>\n",
       "      <td>0</td>\n",
       "      <td>0.341</td>\n",
       "      <td>-6.767</td>\n",
       "      <td>1</td>\n",
       "      <td>0.0352</td>\n",
       "      <td>112.682</td>\n",
       "      <td>4</td>\n",
       "      <td>0.722</td>\n",
       "      <td>1</td>\n",
       "    </tr>\n",
       "    <tr>\n",
       "      <th>278</th>\n",
       "      <td>0.0141</td>\n",
       "      <td>0.602</td>\n",
       "      <td>234333</td>\n",
       "      <td>0.810</td>\n",
       "      <td>0.000008</td>\n",
       "      <td>7</td>\n",
       "      <td>0.324</td>\n",
       "      <td>-4.653</td>\n",
       "      <td>1</td>\n",
       "      <td>0.2860</td>\n",
       "      <td>156.325</td>\n",
       "      <td>4</td>\n",
       "      <td>0.275</td>\n",
       "      <td>0</td>\n",
       "    </tr>\n",
       "    <tr>\n",
       "      <th>99</th>\n",
       "      <td>0.0341</td>\n",
       "      <td>0.716</td>\n",
       "      <td>195801</td>\n",
       "      <td>0.746</td>\n",
       "      <td>0.000000</td>\n",
       "      <td>6</td>\n",
       "      <td>0.289</td>\n",
       "      <td>-4.750</td>\n",
       "      <td>1</td>\n",
       "      <td>0.0390</td>\n",
       "      <td>119.846</td>\n",
       "      <td>4</td>\n",
       "      <td>0.343</td>\n",
       "      <td>1</td>\n",
       "    </tr>\n",
       "  </tbody>\n",
       "</table>\n",
       "</div>"
      ],
      "text/plain": [
       "     acousticness  danceability  duration  energy  instrumentalness  key  \\\n",
       "552        0.0311         0.885    195992   0.543          0.000000    2   \n",
       "709        0.9710         0.554    218627   0.331          0.223000    2   \n",
       "21         0.3600         0.524    115773   0.600          0.013000    0   \n",
       "278        0.0141         0.602    234333   0.810          0.000008    7   \n",
       "99         0.0341         0.716    195801   0.746          0.000000    6   \n",
       "\n",
       "     liveness  loudness  mode  speechiness    tempo  time_signature  valence  \\\n",
       "552     0.154    -6.338     1       0.2000   99.026               4    0.430   \n",
       "709     0.107   -13.008     0       0.0466  184.098               4    0.446   \n",
       "21      0.341    -6.767     1       0.0352  112.682               4    0.722   \n",
       "278     0.324    -4.653     1       0.2860  156.325               4    0.275   \n",
       "99      0.289    -4.750     1       0.0390  119.846               4    0.343   \n",
       "\n",
       "     label  \n",
       "552      0  \n",
       "709      1  \n",
       "21       1  \n",
       "278      0  \n",
       "99       1  "
      ]
     },
     "execution_count": 2,
     "metadata": {},
     "output_type": "execute_result"
    }
   ],
   "source": [
    "song = pd.read_csv('../../data/training_data.csv', na_values='?').dropna()\n",
    "\n",
    "song.sample(5)"
   ]
  },
  {
   "cell_type": "code",
   "execution_count": 3,
   "metadata": {},
   "outputs": [],
   "source": [
    "attr = ['acousticness','danceability','duration',\n",
    "        'energy','instrumentalness','key','liveness',\n",
    "        'loudness','mode','speechiness','tempo',\n",
    "        'time_signature','valence']\n",
    "label = 'label'\n",
    "\n",
    "# the colinearity between different feature by geometric\n",
    "# pd.plotting.scatter_matrix(song[attr], figsize = (10,10))\n",
    "# plt.show()\n",
    "\n",
    "# the colinearity between different feature by numeric\n",
    "# song[attr].corr()"
   ]
  },
  {
   "cell_type": "code",
   "execution_count": 7,
   "metadata": {},
   "outputs": [],
   "source": [
    "# one hot encoding\n",
    "categoricals = ['key', 'mode', 'time_signature']\n",
    "\n",
    "for categorical in categoricals:\n",
    "    song[categorical] = song[categorical].astype('category')\n",
    "    \n",
    "song = pd.get_dummies(song, sparse=True)    "
   ]
  },
  {
   "cell_type": "code",
   "execution_count": 32,
   "metadata": {},
   "outputs": [],
   "source": [
    "x = song.drop('label',axis=1)\n",
    "y = song[label]\n",
    "\n",
    "scaler = StandardScaler()\n",
    "x = scaler.fit_transform(x)"
   ]
  },
  {
   "cell_type": "code",
   "execution_count": 39,
   "metadata": {},
   "outputs": [
    {
     "name": "stdout",
     "output_type": "stream",
     "text": [
      "best hyperparameters:  {'n_neighbors': 5, 'p': 1}\n",
      "accuracy  0.7716666666666667\n",
      "0.7\n"
     ]
    }
   ],
   "source": [
    "xtrain,xtest,ytrain,ytest = train_test_split(x, y, \n",
    "                                             test_size=0.2,\n",
    "                                             random_state=1,\n",
    "                                             shuffle=True)\n",
    "\n",
    "para = {\n",
    "    'n_neighbors':[5,10,15,20,25],\n",
    "    'p':[1,2,3,4,5]\n",
    "}\n",
    "knn = KNeighborsClassifier()\n",
    "gridsearch = GridSearchCV(knn, para, cv=5)\n",
    "\n",
    "gridsearch.fit(xtrain, ytrain)\n",
    "\n",
    "print('best hyperparameters: ', gridsearch.best_params_)\n",
    "print('accuracy ',gridsearch.best_score_)\n",
    "\n"
   ]
  },
  {
   "cell_type": "code",
   "execution_count": 44,
   "metadata": {},
   "outputs": [
    {
     "name": "stdout",
     "output_type": "stream",
     "text": [
      "accuracy 0.7\n",
      "f1-score 0.7398843930635839\n"
     ]
    },
    {
     "data": {
      "image/png": "[encoded data removed]",
      "text/plain": [
       "<Figure size 640x480 with 2 Axes>"
      ]
     },
     "metadata": {},
     "output_type": "display_data"
    }
   ],
   "source": [
    "knn = KNeighborsClassifier(n_neighbors=5, p=1)\n",
    "knn.fit(xtrain, ytrain)\n",
    "ypred = knn.predict(xtest)\n",
    "print('accuracy', accuracy_score(ypred, ytest))\n",
    "print('f1-score', f1_score(ypred, ytest))\n",
    "\n",
    "plot_confusion_matrix(knn, xtest, ytest, normalize='all')\n",
    "accuracy_score\n",
    "\n",
    "plt.title(\"KNN:{:.4f}\".format(accuracy_score(ypred, ytest)))\n",
    "plt\n",
    "plt.show()"
   ]
  },
  {
   "cell_type": "code",
   "execution_count": null,
   "metadata": {},
   "outputs": [],
   "source": []
  }
 ],
 "metadata": {
  "kernelspec": {
   "display_name": "Python 3",
   "language": "python",
   "name": "python3"
  },
  "language_info": {
   "codemirror_mode": {
    "name": "ipython",
    "version": 3
   },
   "file_extension": ".py",
   "mimetype": "text/x-python",
   "name": "python",
   "nbconvert_exporter": "python",
   "pygments_lexer": "ipython3",
   "version": "3.7.8"
  }
 },
 "nbformat": 4,
 "nbformat_minor": 2
}
